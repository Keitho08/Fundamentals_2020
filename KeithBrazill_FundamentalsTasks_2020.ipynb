{
 "cells": [
  {
   "cell_type": "markdown",
   "metadata": {},
   "source": [
    "## Keith Brazill - G00387845"
   ]
  },
  {
   "cell_type": "markdown",
   "metadata": {},
   "source": [
    "***\n",
    "## Computer Science and Data Analytics \n",
    "### Fundamentals of Data Analysis\n",
    "#### Tasks 2020\n",
    "***"
   ]
  },
  {
   "cell_type": "markdown",
   "metadata": {},
   "source": [
    "***\n",
    "### Task 1 - Counts: \n",
    "*Write a Python function called counts that takes a list as input and returns a dictionary of unique items in the list as keys and the number of times each item appears as values. So, the input ['A', 'A', 'B', 'C', 'A'] should have output {'A': 3, 'B': 1, 'C': 1}. Your code should not depend on any module from the standard library or otherwise. You should research the task first and include a description with references of your algorithm in the notebook.*"
   ]
  },
  {
   "cell_type": "code",
   "execution_count": 21,
   "metadata": {},
   "outputs": [
    {
     "name": "stdout",
     "output_type": "stream",
     "text": [
      "Enter number of items in list: 5\n",
      "a\n",
      "b\n",
      "x\n",
      "s\n",
      "e\n"
     ]
    },
    {
     "data": {
      "text/plain": [
       "{'a': 1, 'b': 1, 'x': 1, 's': 1, 'e': 1}"
      ]
     },
     "execution_count": 21,
     "metadata": {},
     "output_type": "execute_result"
    }
   ],
   "source": [
    "# First we are going to create a list\n",
    "lst = [] \n",
    "  \n",
    "# We then prompt the user to tell us how many elements are in this list\n",
    "n = int(input(\"Enter number of items in list: \")) \n",
    "  \n",
    "# We then tell python to let the user input the items in the list from 0 to total number input (n)\n",
    "for i in range(0, n): \n",
    "    item = (input()) \n",
    "  \n",
    "    lst.append(item) # adding the items to the list\n",
    "\n",
    "dict((x, lst.count(x)) for x in lst) \n",
    "\n",
    "# Here we tell python using the dict comamand that for each item in the list (x)\n",
    "# we want a count of the number of times the item (x) appears in the list"
   ]
  },
  {
   "cell_type": "markdown",
   "metadata": {},
   "source": [
    "References in harvard referencing style and further notes to be added. List above allows input of all data types (integers, floats, strings etc.). \n",
    "Easy option to do this would be using collections library abailable in python but the task is completed without importing libraries.\n",
    "https://stackoverflow.com/questions/3496518/using-a-dictionary-to-count-the-items-in-a-list\n",
    "https://www.geeksforgeeks.org/python-get-a-list-as-input-from-user/\n",
    "https://stackoverflow.com/questions/2600191/how-can-i-count-the-occurrences-of-a-list-item\n",
    "https://docs.python.org/3/tutorial/datastructures.html#dictionaries\n",
    "https://docs.python.org/3/library/stdtypes.html#typesmappinghttps://www.codegrepper.com/code-examples/python/return+occurences+in+list+python\n",
    "***"
   ]
  },
  {
   "cell_type": "markdown",
   "metadata": {},
   "source": [
    "November 2nd, 2020: Write a Python function called dicerolls that simulates\n",
    "rolling dice. Your function should take two parameters: the number of dice k and\n",
    "the number of times to roll the dice n. The function should simulate randomly\n",
    "rolling k dice n times, keeping track of each total face value. It should then return\n",
    "a dictionary with the number of times each possible total face value occurred. So,\n",
    "calling the function as diceroll(k=2, n=1000) should return a dictionary like:\n",
    "{2:19,3:50,4:82,5:112,6:135,7:174,8:133,9:114,10:75,11:70,12:36}"
   ]
  },
  {
   "cell_type": "code",
   "execution_count": 48,
   "metadata": {},
   "outputs": [
    {
     "data": {
      "text/plain": [
       "{2: 20,\n",
       " 3: 49,\n",
       " 4: 91,\n",
       " 5: 116,\n",
       " 6: 140,\n",
       " 7: 138,\n",
       " 8: 173,\n",
       " 9: 112,\n",
       " 10: 72,\n",
       " 11: 65,\n",
       " 12: 24}"
      ]
     },
     "execution_count": 48,
     "metadata": {},
     "output_type": "execute_result"
    }
   ],
   "source": [
    "import random\n",
    "\n",
    "# k = Number of dice\n",
    "# n = Number of rolls\n",
    "\n",
    "def diceroll(k, n, dice_sides=6):\n",
    "    # prepare dictionary with zero values for all possible results\n",
    "    counter = {n : 0 for n in range(k, k*dice_sides + 1)}\n",
    "\n",
    "    # roll all the dice\n",
    "    for i in range(n):\n",
    "        dice_sum = sum(random.choices(range(1, dice_sides + 1), k = k))\n",
    "        counter[dice_sum] += 1\n",
    "    return counter\n",
    "\n",
    "diceroll(k=2, n=1000)"
   ]
  },
  {
   "cell_type": "markdown",
   "metadata": {},
   "source": [
    "References:\n",
    "\n",
    "https://stackoverflow.com/questions/23598952/rolling-two-dice-and-tabulating-outcomes?rq=1\n",
    "https://stackoverflow.com/questions/49881078/rolling-two-dice-and-returning-count?rq=1\n",
    "https://www.pythonforbeginners.com/code-snippets-source-code/game-rolling-the-dice\n",
    "https://stackoverflow.com/questions/44008489/dice-rolling-simulator-in-python\n",
    "https://datascienceunlimited.tech/step-by-step-coding-a-dice-roll-simulator-in-python/\n",
    "https://medium.com/an-amygdala/how-to-simulate-a-dice-roll-and-guess-the-result-in-python-9785079af6f3\n",
    "https://docs.scipy.org/doc//numpy-1.10.4/reference/generated/numpy.random.choice.html\n",
    "https://pynative.com/python-range-function/\n",
    "https://www.geeksforgeeks.org/count-numbers-in-range-such-that-digits-in-it-and-its-product-with-q-are-unequal/\n"
   ]
  },
  {
   "cell_type": "code",
   "execution_count": null,
   "metadata": {},
   "outputs": [],
   "source": []
  },
  {
   "cell_type": "markdown",
   "metadata": {},
   "source": [
    "***\n",
    "November 16th, 2020: The numpy.random.binomial function can be used to\n",
    "simulate flipping a coin with a 50/50 chance of heads or tails. Interestingly, if a\n",
    "coin is flipped many times then the number of heads is well approximated by a\n",
    "bell-shaped curve. For instance, if we flip a coin 100 times in a row the chance of\n",
    "getting 50 heads is relatively high, the chances of getting 0 or 100 heads is relatively\n",
    "low, and the chances of getting any other number of heads decreases as you move\n",
    "away from 50 in either direction towards 0 or 100. Write some python code that\n",
    "simulates flipping a coin 100 times. Then run this code 1,000 times, keeping track\n",
    "of the number of heads in each of the 1,000 simulations. Select an appropriate\n",
    "plot to depict the resulting list of 1,000 numbers, showing that it roughly follows\n",
    "a bell-shaped curve. You should explain your work in a Markdown cell above the\n",
    "code.\n"
   ]
  },
  {
   "cell_type": "code",
   "execution_count": 67,
   "metadata": {},
   "outputs": [
    {
     "data": {
      "text/plain": [
       "Text(0, 0.5, 'Number of coin tosses')"
      ]
     },
     "execution_count": 67,
     "metadata": {},
     "output_type": "execute_result"
    },
    {
     "data": {
      "image/png": "[encoded data removed]",
      "text/plain": [
       "<Figure size 432x288 with 1 Axes>"
      ]
     },
     "metadata": {
      "needs_background": "light"
     },
     "output_type": "display_data"
    }
   ],
   "source": [
    "import numpy as np\n",
    "from numpy import random as rd # we will use the random function explained above with the binomial function\n",
    "import matplotlib.pyplot as plt # import matplotlib as plt, seaborn is build on top of this\n",
    "import seaborn as sns # imports seaborn library as sns used for displaying plots to user format\n",
    "\n",
    "np.random.seed(2) # sets the seed to 2\n",
    "\n",
    "flip = rd.binomial(n=1, p=0.5, size=100) # we define the flip function and input values for parameters above, p = 0.5 as probability is 50%\n",
    "\n",
    "\n",
    "flipplot = sns.histplot(flip, kde=True, binwidth=0.5) # generates a histogram of results for <0.5 and >0.5. \n",
    "plt.setp(flipplot,xticks=[0.25,0.75])\n",
    "flipplot.set(xticklabels=[\"Heads\", \"Tails\"])\n",
    "plt.xlabel(\"Coinfaces (Heads or Tails)\")\n",
    "plt.ylabel(\"Number of coin tosses\")\n",
    "\n",
    "# kernel density estimate (kde) is required to demonstrate bell shaped curve, \n",
    "# we set binwidth to 0.5 to ensure the ranges in the histogram are correctly identified.\n",
    "# i.e 0-0.5 = heads, 0.5-1.0 = Tails"
   ]
  },
  {
   "cell_type": "code",
   "execution_count": 74,
   "metadata": {},
   "outputs": [
    {
     "data": {
      "text/plain": [
       "Text(0, 0.5, 'Number of coin tosses')"
      ]
     },
     "execution_count": 74,
     "metadata": {},
     "output_type": "execute_result"
    },
    {
     "data": {
      "image/png": "[encoded data removed]",
      "text/plain": [
       "<Figure size 432x288 with 1 Axes>"
      ]
     },
     "metadata": {
      "needs_background": "light"
     },
     "output_type": "display_data"
    }
   ],
   "source": [
    "import numpy as np\n",
    "from numpy import random as rd # we will use the random function explained above with the binomial function\n",
    "import matplotlib.pyplot as plt # import matplotlib as plt, seaborn is build on top of this\n",
    "import seaborn as sns # imports seaborn library as sns used for displaying plots to user format\n",
    "\n",
    "np.random.seed(2) # sets the seed to 2\n",
    "\n",
    "flip = rd.binomial(n=1, p=0.5, size=1000) # we define the flip function and input values for parameters above, p = 0.5 as probability is 50%\n",
    "\n",
    "#sns.set_palette(\"pastel\") # sets the user preferred colour scheme\n",
    "flipplot = sns.histplot(flip, kde=True, binwidth=0.5,) # generates a histogram of results for <0.5 and >0.5. \n",
    "plt.setp(flipplot,xticks=[0.25,0.75])\n",
    "flipplot.set(xticklabels=[\"Heads\", \"Tails\"])\n",
    "plt.xlabel(\"Coinfaces (Heads or Tails)\")\n",
    "plt.ylabel(\"Number of coin tosses\")\n",
    "\n",
    "# kernel density estimate (kde) is required to demonstrate bell shaped curve, \n",
    "# we set binwidth to 0.5 to ensure the ranges in the histogram are correctly identified. i.e 0-0.5 = heads, 0.5-1.0 = Tails "
   ]
  },
  {
   "cell_type": "code",
   "execution_count": 73,
   "metadata": {},
   "outputs": [
    {
     "data": {
      "text/plain": [
       "Text(0, 0.5, 'Number of coin tosses')"
      ]
     },
     "execution_count": 73,
     "metadata": {},
     "output_type": "execute_result"
    },
    {
     "data": {
      "image/png": "[encoded data removed]",
      "text/plain": [
       "<Figure size 432x288 with 1 Axes>"
      ]
     },
     "metadata": {
      "needs_background": "light"
     },
     "output_type": "display_data"
    }
   ],
   "source": [
    "import numpy as np\n",
    "from numpy import random as rd # we will use the random function explained above with the binomial function\n",
    "import matplotlib.pyplot as plt # import matplotlib as plt, seaborn is build on top of this\n",
    "import seaborn as sns # imports seaborn library as sns used for displaying plots to user format\n",
    "\n",
    "np.random.seed(6) # sets the seed to 2\n",
    "\n",
    "flip = rd.binomial(n=1, p=0.5, size=10000) # we define the flip function and input values for parameters above, p = 0.5 as probability is 50%\n",
    "\n",
    "#sns.set_palette(\"pastel\") # sets the user preferred colour scheme\n",
    "flipplot = sns.histplot(flip, kde=True, binwidth=0.5,) # generates a histogram of results for <0.5 and >0.5. \n",
    "plt.setp(flipplot,xticks=[0.25,0.75])\n",
    "flipplot.set(xticklabels=[\"Heads\", \"Tails\"])\n",
    "plt.xlabel(\"Coinfaces (Heads or Tails)\")\n",
    "plt.ylabel(\"Number of coin tosses\")\n",
    "\n",
    "# kernel density estimate (kde) is required to demonstrate bell shaped curve, \n",
    "# we set binwidth to 0.5 to ensure the ranges in the histogram are correctly identified. i.e 0-0.5 = heads, 0.5-1.0 = Tails "
   ]
  },
  {
   "cell_type": "code",
   "execution_count": null,
   "metadata": {},
   "outputs": [],
   "source": []
  },
  {
   "cell_type": "markdown",
   "metadata": {},
   "source": [
    "November 30th, 2020: Simpson’s paradox is a well-known statistical paradox where a trend evident in a number of groups reverses when the groups are combined into one big data set. Use numpy to create four data sets, each with an x array and a corresponding y array, to demonstrate Simpson’s paradox. You might create your x arrays using numpy.linspace and create the y array for each x using notation like y = a * x + b where you choose the a and b for each x , y pair to demonstrate the paradox. You might see the Wikipedia page for Simpson’s paradox for inspiration."
   ]
  },
  {
   "cell_type": "code",
   "execution_count": null,
   "metadata": {},
   "outputs": [],
   "source": []
  }
 ],
 "metadata": {
  "kernelspec": {
   "display_name": "Python 3",
   "language": "python",
   "name": "python3"
  },
  "language_info": {
   "codemirror_mode": {
    "name": "ipython",
    "version": 3
   },
   "file_extension": ".py",
   "mimetype": "text/x-python",
   "name": "python",
   "nbconvert_exporter": "python",
   "pygments_lexer": "ipython3",
   "version": "3.8.5"
  }
 },
 "nbformat": 4,
 "nbformat_minor": 4
}
