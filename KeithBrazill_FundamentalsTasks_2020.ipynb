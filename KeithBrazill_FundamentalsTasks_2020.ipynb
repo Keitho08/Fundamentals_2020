{
 "cells": [
  {
   "cell_type": "markdown",
   "metadata": {},
   "source": [
    "## Keith Brazill - G00387845"
   ]
  },
  {
   "cell_type": "markdown",
   "metadata": {},
   "source": [
    "***\n",
    "## Computer Science and Data Analytics \n",
    "### Fundamentals of Data Analysis\n",
    "#### Tasks 2020\n",
    "***"
   ]
  },
  {
   "cell_type": "markdown",
   "metadata": {},
   "source": [
    "***\n",
    "### Task 1 - Counts: \n",
    "*Write a Python function called counts that takes a list as input and returns a dictionary of unique items in the list as keys and the number of times each item appears as values. So, the input ['A', 'A', 'B', 'C', 'A'] should have output {'A': 3, 'B': 1, 'C': 1}. Your code should not depend on any module from the standard library or otherwise. You should research the task first and include a description with references of your algorithm in the notebook.*"
   ]
  },
  {
   "cell_type": "code",
   "execution_count": 4,
   "metadata": {},
   "outputs": [
    {
     "name": "stdout",
     "output_type": "stream",
     "text": [
      "Enter number of items in list: 5\n",
      "A\n",
      "A\n",
      "B\n",
      "C\n",
      "A\n"
     ]
    },
    {
     "data": {
      "text/plain": [
       "{'A': 3, 'B': 1, 'C': 1}"
      ]
     },
     "execution_count": 4,
     "metadata": {},
     "output_type": "execute_result"
    }
   ],
   "source": [
    "# First we are going to create a list\n",
    "lst = [] \n",
    "  \n",
    "# We then prompt the user to tell us how many elements are in this list\n",
    "n = int(input(\"Enter number of items in list: \")) \n",
    "  \n",
    "# We then tell python to let the user input the items in the list from 0 to total number input (n)\n",
    "for i in range(0, n): \n",
    "    item = (input()) \n",
    "  \n",
    "    lst.append(item) # adding the items to the list\n",
    "\n",
    "dict((x, lst.count(x)) for x in lst) \n",
    "\n",
    "# Here we tell python using the dict comamand that for each item in the list (x)\n",
    "# we want a count of the number of times the item (x) appears in the list"
   ]
  },
  {
   "cell_type": "markdown",
   "metadata": {},
   "source": [
    "References in harvard referencing style and further notes to be added. List above allows input of all data types (integers, floats, strings etc.). \n",
    "Easy option to do this would be using collections library abailable in python but the task is completed without importing libraries.\n",
    "https://stackoverflow.com/questions/3496518/using-a-dictionary-to-count-the-items-in-a-list\n",
    "https://www.geeksforgeeks.org/python-get-a-list-as-input-from-user/\n",
    "https://stackoverflow.com/questions/2600191/how-can-i-count-the-occurrences-of-a-list-item\n",
    "https://docs.python.org/3/tutorial/datastructures.html#dictionaries\n",
    "https://docs.python.org/3/library/stdtypes.html#typesmappinghttps://www.codegrepper.com/code-examples/python/return+occurences+in+list+python\n",
    "***"
   ]
  },
  {
   "cell_type": "code",
   "execution_count": null,
   "metadata": {},
   "outputs": [],
   "source": []
  }
 ],
 "metadata": {
  "kernelspec": {
   "display_name": "Python 3",
   "language": "python",
   "name": "python3"
  },
  "language_info": {
   "codemirror_mode": {
    "name": "ipython",
    "version": 3
   },
   "file_extension": ".py",
   "mimetype": "text/x-python",
   "name": "python",
   "nbconvert_exporter": "python",
   "pygments_lexer": "ipython3",
   "version": "3.8.5"
  }
 },
 "nbformat": 4,
 "nbformat_minor": 4
}
